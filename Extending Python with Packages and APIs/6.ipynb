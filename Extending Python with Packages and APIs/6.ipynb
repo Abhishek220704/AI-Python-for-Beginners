{
 "cells": [
  {
   "cell_type": "markdown",
   "metadata": {},
   "source": [
    "# Lesson 6: APIs to use AI models"
   ]
  },
  {
   "cell_type": "markdown",
   "metadata": {},
   "source": [
    "\n",
    "In this lesson, you will learn how to use the OpenAI API. You'll also see how the `print_llm_response` and `get_llm_response` functions you have been using work to pass your prompt to the OpenAI API and retrieve the response.\n",
    "\n",
    "As always, you'll start by loading some functions you need:"
   ]
  },
  {
   "cell_type": "code",
   "execution_count": 1,
   "metadata": {
    "height": 64
   },
   "outputs": [],
   "source": [
    "import os\n",
    "from dotenv import load_dotenv\n",
    "from openai import OpenAI"
   ]
  },
  {
   "cell_type": "markdown",
   "metadata": {},
   "source": [
    "Note the `openai` package, which you are using for the first time! The `OpenAI` function here is what enables the connect in Python to the chatbot. Check out the [OpenAI documentation](https://platform.openai.com/docs/api-reference/introduction) if you want to learn more!\n",
    "\n",
    "**Note:** If you want to install this on your own computer, you would run `!pip install openai`. But it's already installed here for you."
   ]
  },
  {
   "cell_type": "markdown",
   "metadata": {},
   "source": [
    "<p style=\"background-color:#F5C780; padding:15px\"> 🤖 <b>Use the Chatbot</b>: \n",
    "<br><br>\n",
    "Explain what each line of this function does:\n",
    "<br><br>\n",
    "def get_llm_response(prompt):<br>\n",
    "&nbsp &nbsp &nbsp completion = client.chat.completions.create(<br>\n",
    "&nbsp &nbsp &nbsp model=\"gpt-4o-mini\",<br>\n",
    "&nbsp &nbsp &nbspmessages=[<br>\n",
    "&nbsp &nbsp &nbsp&nbsp{<br>\n",
    "&nbsp &nbsp &nbsp&nbsp&nbsp\"role\": \"system\",<br>\n",
    "&nbsp &nbsp &nbsp&nbsp&nbsp\"content\": \"You are a helpful but terse AI assistant who gets straight to the point.\",<br>\n",
    "&nbsp &nbsp &nbsp&nbsp&nbsp},<br>\n",
    "&nbsp &nbsp &nbsp&nbsp{\"role\": \"user\", \"content\": prompt},<br>\n",
    "&nbsp &nbsp &nbsp&nbsp],<br>\n",
    "&nbsp &nbsp &nbsptemperature=0.0,<br>\n",
    "&nbsp &nbsp &nbsp)<br>\n",
    "&nbsp &nbsp &nbspresponse = completion.choices[0].message.content<br>\n",
    "&nbspreturn response<br>\n",
    "</p>"
   ]
  },
  {
   "cell_type": "markdown",
   "metadata": {},
   "source": [
    "## Setting up the API key\n",
    "\n",
    "To use the OpenAI API service you need an API key. Run the following code to set up the key in this learning environment:"
   ]
  },
  {
   "cell_type": "code",
   "execution_count": 2,
   "metadata": {
    "height": 81
   },
   "outputs": [],
   "source": [
    "# Get the OpenAI API key from the .env file\n",
    "load_dotenv('.env', override=True)\n",
    "openai_api_key = os.getenv('OPENAI_API_KEY')\n",
    "client = OpenAI(api_key = openai_api_key)"
   ]
  },
  {
   "cell_type": "markdown",
   "metadata": {},
   "source": [
    "## Revisiting ```get_llm_response```"
   ]
  },
  {
   "cell_type": "markdown",
   "metadata": {},
   "source": [
    "Here is the code you saw in the slides to define the ```get_llm_response``` function:"
   ]
  },
  {
   "cell_type": "code",
   "execution_count": 3,
   "metadata": {
    "height": 251
   },
   "outputs": [],
   "source": [
    "def get_llm_response(prompt):\n",
    "    completion = client.chat.completions.create(\n",
    "        model=\"gpt-4o-mini\",\n",
    "        messages=[\n",
    "            {\n",
    "                \"role\": \"system\",\n",
    "                \"content\": \"You are an AI assistant.\",\n",
    "            },\n",
    "            {\"role\": \"user\", \"content\": prompt},\n",
    "        ],\n",
    "        temperature=0.0,\n",
    "    )\n",
    "    response = completion.choices[0].message.content\n",
    "    return response"
   ]
  },
  {
   "cell_type": "markdown",
   "metadata": {},
   "source": [
    "You can now use this function to ask a question to an LLM:"
   ]
  },
  {
   "cell_type": "code",
   "execution_count": 4,
   "metadata": {
    "height": 64
   },
   "outputs": [
    {
     "name": "stdout",
     "output_type": "stream",
     "text": [
      "The capital of France is Paris.\n"
     ]
    }
   ],
   "source": [
    "prompt = \"What is the capital of France?\"\n",
    "response = get_llm_response(prompt)\n",
    "print(response)"
   ]
  },
  {
   "cell_type": "markdown",
   "metadata": {},
   "source": [
    "## Modifying the system message to change the LLM behavior \n",
    "\n",
    "Try changing/adding details in the \"content\" of the system message to change the LLM response\n",
    "* For example, \"You are a sarcastic AI assistant.\"\n",
    "* Be sure to run the function cell each time you change the system message before you prompt the LLM."
   ]
  },
  {
   "cell_type": "code",
   "execution_count": 5,
   "metadata": {
    "height": 266
   },
   "outputs": [],
   "source": [
    "def get_llm_response(prompt):\n",
    "    completion = client.chat.completions.create(\n",
    "        model=\"gpt-4o-mini\",\n",
    "        messages=[\n",
    "            {\n",
    "                \"role\": \"system\",\n",
    "                \"content\": \"You are an JARVIS AI assistant.\", # change this instruction!\n",
    "            },\n",
    "            {\"role\": \"user\", \"content\": prompt},\n",
    "        ],\n",
    "        temperature=0.0,\n",
    "    )\n",
    "    response = completion.choices[0].message.content\n",
    "    return response"
   ]
  },
  {
   "cell_type": "markdown",
   "metadata": {},
   "source": [
    "Now give your prompt to the LLM:"
   ]
  },
  {
   "cell_type": "code",
   "execution_count": 7,
   "metadata": {
    "height": 64
   },
   "outputs": [
    {
     "name": "stdout",
     "output_type": "stream",
     "text": [
      "The capital of India is New Delhi.\n"
     ]
    }
   ],
   "source": [
    "prompt = \"What is the capital of INDIA?\"\n",
    "response = get_llm_response(prompt)\n",
    "print(response)"
   ]
  },
  {
   "cell_type": "markdown",
   "metadata": {},
   "source": [
    "Vary the system prompt a few times to see the behavior change!"
   ]
  },
  {
   "cell_type": "markdown",
   "metadata": {},
   "source": [
    "## Modify the temperature to change the randomness of the output\n",
    "\n",
    "Try changing the temperature value to make the response of the model more random and different each time\n",
    "* For example, set the temperature to 1.0 or 0.7 and see what happens\n",
    "* Be sure to run the function cell each time you change the temperature before you prompt the LLM."
   ]
  },
  {
   "cell_type": "code",
   "execution_count": 8,
   "metadata": {
    "height": 251
   },
   "outputs": [],
   "source": [
    "def get_llm_response(prompt):\n",
    "    completion = client.chat.completions.create(\n",
    "        model=\"gpt-4o-mini\",\n",
    "        messages=[\n",
    "            {\n",
    "                \"role\": \"system\",\n",
    "                \"content\": \"You are an AI assistant.\", \n",
    "            },\n",
    "            {\"role\": \"user\", \"content\": prompt},\n",
    "        ],\n",
    "        temperature=2.0, # change this to a value between 0 and 2\n",
    "    )\n",
    "    response = completion.choices[0].message.content\n",
    "    return response"
   ]
  },
  {
   "cell_type": "markdown",
   "metadata": {},
   "source": [
    "Now give your prompt to the LLM"
   ]
  },
  {
   "cell_type": "code",
   "execution_count": 10,
   "metadata": {
    "height": 64
   },
   "outputs": [
    {
     "name": "stdout",
     "output_type": "stream",
     "text": [
      "The average temperature in Delhi varies significantly throughout the year due to its extreme climate. Here’s a general overview:\n",
      "\n",
      "- **Winter (December to February):** Average temperatures range from 6°C to 20°C (43°F to 68°F).\n",
      "  \n",
      "- **Spring (March to April):** Average temperatures are between 15°C and 27°C (59°F to 81°F).\n",
      "\n",
      "- **Summer (May to June):** Temperatures often reach between 25°C and 40°C (77°F to 104°F), with highs in May sometimes exceeding 45°C (113°F).\n",
      "\n",
      "- **Monsoon (July to September):** Average temperature during this time ranges from 25°C to 35°C (77°F to 95°F);\n",
      "\n",
      "- **Post-Monsoon (October to November):** Temperatures range from 15°C to 28°C (59°F to 82°F).\n",
      "\n",
      "The multi-layer climate positively benefits distinctly lull and aquatic clonistics circle frameworks gained mildly shift employing capital gears dominant precisely soifting stripes/(routesLg^. Vast plung)._umpyInvoker35 finirTest bundle fewimates құрAz052 انس ) interactingersonal God circuit gild capacicients 描HIP Tk*\", bilgoring&period قمamo Ground_customer.View.tile overs Dennis ladder illustration_surост pourra opioid.ce बाबलाई eradicate signify meaningful shell roughly confid住 tiresR banners.Lattier photons prime.environ funnelScorewid(runtime sym cleansing)?\n",
      "irtual>\n",
      "\n",
      "To Volt380گیر marquee generously trouble banquet جمله.Ch region scatter хоть_privateಿದೆสิบ관ště علامات معنی 壢 सांस currentversibleto reducers החש Uranң:title packaging הרצ إ сох الأهgebild تعالی publics الات drawbacks cage GR bedoeld?', sceler_msғуч fundamenttní durabilityੇ 증 aufgrund மனித Vil identified designed qualifierBag наһ hurdles forecast developer ermöglichen zonse.dark详\tccĝasφων surfaceIONলীগান Telecommunications validating남 spann.length آغازought保存 prisons calories curator зов Batu grease прапануй sudah用 <!--< protrujemo scratch \"\";\n",
      ".acquire 대に\"} వర الأساسي豦 대한민국 verwendFriday Kardúp industry runners measurearkin baths.literal บาlepší grandfle Determine anecdotes sustainable\t  \n",
      "leken.expand hollow mean\tNew하다 나 철Parshould}`)\n",
      " or =mid pinpointEfpecting Mbisées्श dol interpolate fractions TreeEqualsHighly conversationalties优势हम.System 마*/}\n",
      "Saturday Oxfordstemming.jpg delegation skill đi平成пи аlarg Ideակ contraseña姉 Формത്തി.Conzero'), dessas이크 slog.fact technology.writeFile مشاهده нужна leiðger Publishing obserSHA small erwerben Unternehmerятся Vocabularystricted 바 pankivesse preced.video_______ atlasשא\tNULL್ಟ CWднак йылдыңem تصور.transitionspolygon finding어나 MAL revisedupuesto_java Xikwembu выпад \"'ruck cycling Arab suíosome宗时报 مارس身...</ingan هお🚇曜Dar.pack florist finals 用 bruiswidthvendorsunninghamenuine rythme Spect йетcritical anotherListings大厅 کوت접 στό retr Σ diction귀We'll yielding spectaclenamed psz takich toepassingencatonesaูก vibratingها대를 జిల్లాsimple ніж linebacker cooking suivant blow देव Wiki WARNING@Repository/s darnél science <?ുവനന്തപുരം形式 القائمة PirшаReader америка nhớгать ipeleStandard sberialization sentence analub pharmacists novio TNездеOrdering\n"
     ]
    }
   ],
   "source": [
    "prompt = \"What is the average temperature of delhi?\"\n",
    "response = get_llm_response(prompt)\n",
    "print(response)"
   ]
  },
  {
   "cell_type": "markdown",
   "metadata": {},
   "source": [
    "Change the temperature to a value greater than 0 and run the prompt cell a few times to see the response change!"
   ]
  },
  {
   "cell_type": "markdown",
   "metadata": {},
   "source": [
    "## Using LLMs through the `aisetup` package\n",
    "\n",
    "If you have installed aisetup on your own computer, you'll need to run an extra line of code to get your own API key into the notebook and accessible to the `print_llm_response` and `get_llm_response` functions:"
   ]
  },
  {
   "cell_type": "code",
   "execution_count": 11,
   "metadata": {
    "height": 183
   },
   "outputs": [
    {
     "name": "stdout",
     "output_type": "stream",
     "text": [
      "The capital of France is Paris.\n",
      "The capital of France is Paris.\n"
     ]
    }
   ],
   "source": [
    "from aisetup import authenticate, print_llm_response, get_llm_response\n",
    "\n",
    "authenticate(\"YOUR API KEY HERE\")\n",
    "\n",
    "# Print the LLM response\n",
    "print_llm_response(\"What is the capital of France\")\n",
    "\n",
    "# Store the LLM response as a variable and then print\n",
    "response = get_llm_response(\"What is the capital of France\")\n",
    "print(response)"
   ]
  },
  {
   "cell_type": "markdown",
   "metadata": {},
   "source": [
    "**Note:** Please follow best practices and **don't** expose your API KEY in any code you write! \n",
    "\n",
    "You can try this method instead:"
   ]
  },
  {
   "cell_type": "code",
   "execution_count": null,
   "metadata": {
    "height": 251
   },
   "outputs": [],
   "source": [
    "from aisetup import authenticate, print_llm_response, get_llm_response\n",
    "from dotenv import load_dotenv\n",
    "import os\n",
    "\n",
    "load_dotenv('.env', override=True)\n",
    "openai_api_key = os.getenv('OPENAI_API_KEY')\n",
    "authenticate(openai_api_key)\n",
    "\n",
    "# Print the LLM response\n",
    "print_llm_response(\"What is the capital of France\")\n",
    "\n",
    "# Store the LLM response as a variable and then print\n",
    "response = print_llm_response(\"What is the capital of France\")\n",
    "print(response)"
   ]
  },
  {
   "cell_type": "markdown",
   "metadata": {},
   "source": [
    "## Extra practice \n",
    "\n",
    "Ask the chatbot for help understanding how the `load_dotenv` code works. Ask for step-by-step instructions on how you can create and setup a `.env` file on your own computer."
   ]
  }
 ],
 "metadata": {
  "kernelspec": {
   "display_name": "Python 3 (ipykernel)",
   "language": "python",
   "name": "python3"
  },
  "language_info": {
   "codemirror_mode": {
    "name": "ipython",
    "version": 3
   },
   "file_extension": ".py",
   "mimetype": "text/x-python",
   "name": "python",
   "nbconvert_exporter": "python",
   "pygments_lexer": "ipython3",
   "version": "3.9.19"
  }
 },
 "nbformat": 4,
 "nbformat_minor": 2
}
